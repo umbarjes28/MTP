{
 "cells": [
  {
   "cell_type": "markdown",
   "id": "02a23b7e",
   "metadata": {},
   "source": [
    "# Task 1 - Train on the NEU train."
   ]
  },
  {
   "cell_type": "code",
   "execution_count": 1,
   "id": "26c3d5d2",
   "metadata": {},
   "outputs": [],
   "source": [
    "import os\n",
    "import numpy as np"
   ]
  },
  {
   "cell_type": "code",
   "execution_count": 2,
   "id": "afa4e688",
   "metadata": {},
   "outputs": [],
   "source": [
    "train_crazing_dir = os.path.join('NEU-DET/train/images/crazing')\n",
    "train_inclusion_dir = os.path.join('NEU-DET/train/images/inclusion')\n",
    "train_patches_dir = os.path.join('NEU-DET/train/images/patches')\n",
    "train_pitted_surface_dir = os.path.join('NEU-DET/train/images/pitted_surface')\n",
    "train_rolledin_scale_dir = os.path.join('NEU-DET/train/images/rolled-in_scale')\n",
    "train_scratches_dir = os.path.join('NEU-DET/train/images/scratches')"
   ]
  },
  {
   "cell_type": "code",
   "execution_count": 3,
   "id": "e0cc05e2",
   "metadata": {},
   "outputs": [],
   "source": [
    "train_crazing_names = os.listdir(train_crazing_dir)\n",
    "train_inclusion_names = os.listdir(train_inclusion_dir)\n",
    "train_patches_names = os.listdir(train_patches_dir)\n",
    "train_pitted_surface_names = os.listdir(train_pitted_surface_dir)\n",
    "train_rolledin_scale_names = os.listdir(train_rolledin_scale_dir)\n",
    "train_scratches_names = os.listdir(train_scratches_dir)"
   ]
  },
  {
   "cell_type": "code",
   "execution_count": 4,
   "id": "20f37d23",
   "metadata": {},
   "outputs": [
    {
     "name": "stdout",
     "output_type": "stream",
     "text": [
      "total training crazing images: 240\n",
      "total training inclusion images: 240\n",
      "total training patches images: 240\n",
      "total training pitted_surface images: 240\n",
      "total training rolled_in_scale images: 240\n",
      "total training scratches images: 240\n"
     ]
    }
   ],
   "source": [
    "print('total training crazing images:', len(train_crazing_names))\n",
    "print('total training inclusion images:', len(train_inclusion_names))\n",
    "print('total training patches images:', len(train_patches_names))\n",
    "print('total training pitted_surface images:', len(train_pitted_surface_names))\n",
    "print('total training rolled_in_scale images:', len(train_rolledin_scale_names))\n",
    "print('total training scratches images:', len(train_scratches_names))"
   ]
  },
  {
   "cell_type": "code",
   "execution_count": 5,
   "id": "7005202c",
   "metadata": {},
   "outputs": [],
   "source": [
    "import tensorflow as tf\n"
   ]
  },
  {
   "cell_type": "code",
   "execution_count": 6,
   "id": "87d4b98d",
   "metadata": {},
   "outputs": [],
   "source": [
    "model = tf.keras.models.Sequential([\n",
    "                                    # First Convolution\n",
    "                                    tf.keras.layers.Conv2D(32, (3,3), activation='relu', input_shape=(224, 224, 3)),\n",
    "                                    tf.keras.layers.MaxPooling2D(2, 2),\n",
    "                                    # Second Convolution\n",
    "                                    tf.keras.layers.Conv2D(32, (3,3), activation='relu'),\n",
    "                                    tf.keras.layers.MaxPooling2D(2, 2),\n",
    "                                    # Third Convolution\n",
    "                                    tf.keras.layers.Conv2D(32, (3,3), activation='relu'),\n",
    "                                    tf.keras.layers.MaxPooling2D(2, 2),\n",
    "                                    tf.keras.layers.Flatten(),\n",
    "                                    tf.keras.layers.Dense(512, activation='relu'),\n",
    "                                    tf.keras.layers.Dense(512, activation='relu'),\n",
    "                                    tf.keras.layers.Dense(6, activation='softmax'),])\n",
    "\n",
    "\n"
   ]
  },
  {
   "cell_type": "code",
   "execution_count": 7,
   "id": "208a2c8f",
   "metadata": {},
   "outputs": [
    {
     "name": "stdout",
     "output_type": "stream",
     "text": [
      "Model: \"sequential\"\n",
      "_________________________________________________________________\n",
      " Layer (type)                Output Shape              Param #   \n",
      "=================================================================\n",
      " conv2d (Conv2D)             (None, 222, 222, 32)      896       \n",
      "                                                                 \n",
      " max_pooling2d (MaxPooling2D  (None, 111, 111, 32)     0         \n",
      " )                                                               \n",
      "                                                                 \n",
      " conv2d_1 (Conv2D)           (None, 109, 109, 32)      9248      \n",
      "                                                                 \n",
      " max_pooling2d_1 (MaxPooling  (None, 54, 54, 32)       0         \n",
      " 2D)                                                             \n",
      "                                                                 \n",
      " conv2d_2 (Conv2D)           (None, 52, 52, 32)        9248      \n",
      "                                                                 \n",
      " max_pooling2d_2 (MaxPooling  (None, 26, 26, 32)       0         \n",
      " 2D)                                                             \n",
      "                                                                 \n",
      " flatten (Flatten)           (None, 21632)             0         \n",
      "                                                                 \n",
      " dense (Dense)               (None, 512)               11076096  \n",
      "                                                                 \n",
      " dense_1 (Dense)             (None, 512)               262656    \n",
      "                                                                 \n",
      " dense_2 (Dense)             (None, 6)                 3078      \n",
      "                                                                 \n",
      "=================================================================\n",
      "Total params: 11,361,222\n",
      "Trainable params: 11,361,222\n",
      "Non-trainable params: 0\n",
      "_________________________________________________________________\n"
     ]
    }
   ],
   "source": [
    "model.summary()\n"
   ]
  },
  {
   "cell_type": "code",
   "execution_count": 8,
   "id": "d39e00c7",
   "metadata": {},
   "outputs": [],
   "source": [
    "from tensorflow.keras.optimizers import RMSprop, Adam\n",
    "\n",
    "model.compile(loss='categorical_crossentropy',\n",
    "              optimizer= 'adam',\n",
    "              metrics=['accuracy'])"
   ]
  },
  {
   "cell_type": "code",
   "execution_count": 9,
   "id": "5e447ac3",
   "metadata": {},
   "outputs": [
    {
     "name": "stdout",
     "output_type": "stream",
     "text": [
      "Found 1440 images belonging to 6 classes.\n",
      "Found 360 images belonging to 6 classes.\n"
     ]
    }
   ],
   "source": [
    "from tensorflow.keras.preprocessing.image import ImageDataGenerator\n",
    "from PIL import Image\n",
    "\n",
    "# Rescaling images\n",
    "data_generator = ImageDataGenerator(rescale=1/255)\n",
    "\n",
    "train_generator = data_generator.flow_from_directory(\n",
    "    directory = 'NEU-DET/train/images/',\n",
    "    target_size = (224, 224),\n",
    "    batch_size = 60,\n",
    "    class_mode = 'categorical',\n",
    "    subset='training'\n",
    ")\n",
    "\n",
    "validation_generator = data_generator.flow_from_directory(\n",
    "    directory = 'NEU-DET/validation/images/',\n",
    "    target_size = (224, 224),\n",
    "    batch_size = 60,\n",
    "    class_mode = 'categorical',\n",
    "    subset='training'\n",
    "\n",
    ")"
   ]
  },
  {
   "cell_type": "code",
   "execution_count": 10,
   "id": "f869db13",
   "metadata": {},
   "outputs": [
    {
     "name": "stdout",
     "output_type": "stream",
     "text": [
      "Epoch 1/5\n",
      "8/8 [==============================] - 20s 3s/step - loss: 0.5222 - accuracy: 0.1500\n",
      "Epoch 2/5\n",
      "8/8 [==============================] - 20s 2s/step - loss: 0.4704 - accuracy: 0.1667\n",
      "Epoch 3/5\n",
      "8/8 [==============================] - 20s 3s/step - loss: 0.4423 - accuracy: 0.2417\n",
      "Epoch 4/5\n",
      "8/8 [==============================] - 19s 2s/step - loss: 0.4170 - accuracy: 0.2958\n",
      "Epoch 5/5\n",
      "8/8 [==============================] - 20s 3s/step - loss: 0.3532 - accuracy: 0.4729\n"
     ]
    },
    {
     "data": {
      "text/plain": [
       "Reusing TensorBoard on port 6006 (pid 12072), started 3:21:30 ago. (Use '!kill 12072' to kill it.)"
      ]
     },
     "metadata": {},
     "output_type": "display_data"
    },
    {
     "data": {
      "text/html": [
       "\n",
       "      <iframe id=\"tensorboard-frame-cdaae7cc0b4d49df\" width=\"100%\" height=\"800\" frameborder=\"0\">\n",
       "      </iframe>\n",
       "      <script>\n",
       "        (function() {\n",
       "          const frame = document.getElementById(\"tensorboard-frame-cdaae7cc0b4d49df\");\n",
       "          const url = new URL(\"/\", window.location);\n",
       "          const port = 6006;\n",
       "          if (port) {\n",
       "            url.port = port;\n",
       "          }\n",
       "          frame.src = url;\n",
       "        })();\n",
       "      </script>\n",
       "    "
      ],
      "text/plain": [
       "<IPython.core.display.HTML object>"
      ]
     },
     "metadata": {},
     "output_type": "display_data"
    }
   ],
   "source": [
    "# Load the TensorBoard notebook extension\n",
    "import datetime\n",
    "\n",
    "%load_ext tensorboard\n",
    "log_dir = \"logs/fit/\" + datetime.datetime.now().strftime(\"%Y%m%d-%H%M%S\")\n",
    "tensorboard_callback = tf.keras.callbacks.TensorBoard(log_dir=log_dir, histogram_freq=1)\n",
    "\n",
    "history = model.fit(train_generator,steps_per_epoch=8,epochs=5, verbose=1,callbacks=[tensorboard_callback])\n",
    "%tensorboard --logdir logs/fit"
   ]
  },
  {
   "cell_type": "code",
   "execution_count": 11,
   "id": "cdbc6494",
   "metadata": {},
   "outputs": [
    {
     "data": {
      "text/plain": [
       "{'loss': [0.5222132205963135,\n",
       "  0.4704251289367676,\n",
       "  0.4422782063484192,\n",
       "  0.41697895526885986,\n",
       "  0.35323062539100647],\n",
       " 'accuracy': [0.15000000596046448,\n",
       "  0.1666666716337204,\n",
       "  0.24166665971279144,\n",
       "  0.2958333194255829,\n",
       "  0.4729166626930237]}"
      ]
     },
     "execution_count": 11,
     "metadata": {},
     "output_type": "execute_result"
    }
   ],
   "source": [
    "history.history"
   ]
  },
  {
   "cell_type": "markdown",
   "id": "b9eb32b1",
   "metadata": {},
   "source": [
    "## Test on NEU test, and the whole ENEU."
   ]
  },
  {
   "cell_type": "code",
   "execution_count": 12,
   "id": "cad7608d",
   "metadata": {},
   "outputs": [
    {
     "name": "stderr",
     "output_type": "stream",
     "text": [
      "C:\\Users\\91800\\anaconda3\\envs\\MTP\\lib\\site-packages\\tensorflow\\python\\data\\ops\\structured_function.py:264: UserWarning: Even though the `tf.config.experimental_run_functions_eagerly` option is set, this option does not apply to tf.data functions. To force eager execution of tf.data functions, please use `tf.data.experimental.enable_debug_mode()`.\n",
      "  warnings.warn(\n"
     ]
    },
    {
     "name": "stdout",
     "output_type": "stream",
     "text": [
      "6/6 [==============================] - 5s 804ms/step - loss: 0.3326 - accuracy: 0.4528\n"
     ]
    },
    {
     "data": {
      "text/plain": [
       "[0.3325871229171753, 0.45277777314186096]"
      ]
     },
     "execution_count": 12,
     "metadata": {},
     "output_type": "execute_result"
    }
   ],
   "source": [
    "tf.config.run_functions_eagerly(True)\n",
    "model.evaluate(validation_generator)"
   ]
  },
  {
   "cell_type": "code",
   "execution_count": 32,
   "id": "de366f6a",
   "metadata": {},
   "outputs": [
    {
     "name": "stdout",
     "output_type": "stream",
     "text": [
      "Found 10800 images belonging to 6 classes.\n"
     ]
    }
   ],
   "source": [
    "validation_generator_ENEU = data_generator.flow_from_directory(\n",
    "    directory = 'ENEU/',\n",
    "    target_size = (224, 224),\n",
    "    batch_size = 60,\n",
    "    class_mode = 'categorical'\n",
    ")"
   ]
  },
  {
   "cell_type": "code",
   "execution_count": 33,
   "id": "0ac6f605",
   "metadata": {},
   "outputs": [
    {
     "name": "stdout",
     "output_type": "stream",
     "text": [
      "180/180 [==============================] - 144s 799ms/step - loss: 0.5535 - accuracy: 0.1527\n"
     ]
    },
    {
     "data": {
      "text/plain": [
       "[0.5534840226173401, 0.15268518030643463]"
      ]
     },
     "execution_count": 33,
     "metadata": {},
     "output_type": "execute_result"
    }
   ],
   "source": [
    "model.evaluate(validation_generator_ENEU)"
   ]
  },
  {
   "cell_type": "code",
   "execution_count": null,
   "id": "b7b8e1ed",
   "metadata": {},
   "outputs": [],
   "source": []
  }
 ],
 "metadata": {
  "kernelspec": {
   "display_name": "Python 3 (ipykernel)",
   "language": "python",
   "name": "python3"
  },
  "language_info": {
   "codemirror_mode": {
    "name": "ipython",
    "version": 3
   },
   "file_extension": ".py",
   "mimetype": "text/x-python",
   "name": "python",
   "nbconvert_exporter": "python",
   "pygments_lexer": "ipython3",
   "version": "3.9.12"
  }
 },
 "nbformat": 4,
 "nbformat_minor": 5
}
