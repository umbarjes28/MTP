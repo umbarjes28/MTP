{
 "cells": [
  {
   "cell_type": "markdown",
   "id": "8ecde29d",
   "metadata": {},
   "source": [
    "# Task 2 - Train on the NEU train after Histogram Equalization\n"
   ]
  },
  {
   "cell_type": "code",
   "execution_count": 1,
   "id": "b96f8425",
   "metadata": {},
   "outputs": [],
   "source": [
    "import os\n",
    "import numpy as np"
   ]
  },
  {
   "cell_type": "code",
   "execution_count": 2,
   "id": "3b8bc9ef",
   "metadata": {},
   "outputs": [],
   "source": [
    "train_crazing_dir = os.path.join('data/NEU-DET-HIS/train/images/crazing')\n",
    "train_inclusion_dir = os.path.join('data/NEU-DET-HIS/train/images/inclusion')\n",
    "train_patches_dir = os.path.join('data/NEU-DET-HIS/train/images/patches')\n",
    "train_pitted_surface_dir = os.path.join('data/NEU-DET-HIS/train/images/pitted_surface')\n",
    "train_rolledin_scale_dir = os.path.join('data/NEU-DET-HIS/train/images/rolled-in_scale')\n",
    "train_scratches_dir = os.path.join('data/NEU-DET-HIS/train/images/scratches')"
   ]
  },
  {
   "cell_type": "code",
   "execution_count": 3,
   "id": "9878d44a",
   "metadata": {},
   "outputs": [],
   "source": [
    "train_crazing_names = os.listdir(train_crazing_dir)\n",
    "train_inclusion_names = os.listdir(train_inclusion_dir)\n",
    "train_patches_names = os.listdir(train_patches_dir)\n",
    "train_pitted_surface_names = os.listdir(train_pitted_surface_dir)\n",
    "train_rolledin_scale_names = os.listdir(train_rolledin_scale_dir)\n",
    "train_scratches_names = os.listdir(train_scratches_dir)"
   ]
  },
  {
   "cell_type": "code",
   "execution_count": 4,
   "id": "d37dc418",
   "metadata": {},
   "outputs": [
    {
     "name": "stdout",
     "output_type": "stream",
     "text": [
      "total training crazing images: 241\n",
      "total training inclusion images: 241\n",
      "total training patches images: 241\n",
      "total training pitted_surface images: 241\n",
      "total training rolled_in_scale images: 241\n",
      "total training scratches images: 240\n"
     ]
    }
   ],
   "source": [
    "print('total training crazing images:', len(train_crazing_names))\n",
    "print('total training inclusion images:', len(train_inclusion_names))\n",
    "print('total training patches images:', len(train_patches_names))\n",
    "print('total training pitted_surface images:', len(train_pitted_surface_names))\n",
    "print('total training rolled_in_scale images:', len(train_rolledin_scale_names))\n",
    "print('total training scratches images:', len(train_scratches_names))"
   ]
  },
  {
   "cell_type": "code",
   "execution_count": 5,
   "id": "a9432865",
   "metadata": {},
   "outputs": [],
   "source": [
    "import tensorflow as tf"
   ]
  },
  {
   "cell_type": "code",
   "execution_count": 6,
   "id": "c09b2ad6",
   "metadata": {},
   "outputs": [],
   "source": [
    "model = tf.keras.models.Sequential([\n",
    "                                    # First Convolution\n",
    "                                    tf.keras.layers.Conv2D(32, (3,3), activation='relu', input_shape=(224, 224, 3)),\n",
    "                                    tf.keras.layers.MaxPooling2D(2, 2),\n",
    "                                    # Second Convolution\n",
    "                                    tf.keras.layers.Conv2D(32, (3,3), activation='relu'),\n",
    "                                    tf.keras.layers.MaxPooling2D(2, 2),\n",
    "                                    # Third Convolution\n",
    "                                    tf.keras.layers.Conv2D(32, (3,3), activation='relu'),\n",
    "                                    tf.keras.layers.MaxPooling2D(2, 2),\n",
    "                                    tf.keras.layers.Flatten(),\n",
    "                                    tf.keras.layers.Dense(512, activation='relu'),\n",
    "                                    tf.keras.layers.Dense(512, activation='relu'),\n",
    "                                    tf.keras.layers.Dense(6, activation='softmax'),])\n"
   ]
  },
  {
   "cell_type": "code",
   "execution_count": 7,
   "id": "5b6ca99a",
   "metadata": {},
   "outputs": [
    {
     "name": "stdout",
     "output_type": "stream",
     "text": [
      "Model: \"sequential\"\n",
      "_________________________________________________________________\n",
      " Layer (type)                Output Shape              Param #   \n",
      "=================================================================\n",
      " conv2d (Conv2D)             (None, 222, 222, 32)      896       \n",
      "                                                                 \n",
      " max_pooling2d (MaxPooling2D  (None, 111, 111, 32)     0         \n",
      " )                                                               \n",
      "                                                                 \n",
      " conv2d_1 (Conv2D)           (None, 109, 109, 32)      9248      \n",
      "                                                                 \n",
      " max_pooling2d_1 (MaxPooling  (None, 54, 54, 32)       0         \n",
      " 2D)                                                             \n",
      "                                                                 \n",
      " conv2d_2 (Conv2D)           (None, 52, 52, 32)        9248      \n",
      "                                                                 \n",
      " max_pooling2d_2 (MaxPooling  (None, 26, 26, 32)       0         \n",
      " 2D)                                                             \n",
      "                                                                 \n",
      " flatten (Flatten)           (None, 21632)             0         \n",
      "                                                                 \n",
      " dense (Dense)               (None, 512)               11076096  \n",
      "                                                                 \n",
      " dense_1 (Dense)             (None, 512)               262656    \n",
      "                                                                 \n",
      " dense_2 (Dense)             (None, 6)                 3078      \n",
      "                                                                 \n",
      "=================================================================\n",
      "Total params: 11,361,222\n",
      "Trainable params: 11,361,222\n",
      "Non-trainable params: 0\n",
      "_________________________________________________________________\n"
     ]
    }
   ],
   "source": [
    "model.summary()\n"
   ]
  },
  {
   "cell_type": "code",
   "execution_count": 8,
   "id": "bea31b43",
   "metadata": {},
   "outputs": [],
   "source": [
    "from tensorflow.keras.optimizers import RMSprop, Adam\n",
    "\n",
    "model.compile(loss='categorical_crossentropy',\n",
    "              optimizer= 'adam',\n",
    "              metrics=['accuracy'])"
   ]
  },
  {
   "cell_type": "code",
   "execution_count": 10,
   "id": "cff3faf0",
   "metadata": {},
   "outputs": [
    {
     "name": "stdout",
     "output_type": "stream",
     "text": [
      "Found 1440 images belonging to 6 classes.\n",
      "Found 360 images belonging to 6 classes.\n"
     ]
    }
   ],
   "source": [
    "from tensorflow.keras.preprocessing.image import ImageDataGenerator\n",
    "from PIL import Image\n",
    "\n",
    "# Rescaling images\n",
    "data_generator = ImageDataGenerator(rescale=1/255)\n",
    "\n",
    "train_generator = data_generator.flow_from_directory(\n",
    "    directory = 'data/NEU-DET-HIS/train/images/',\n",
    "    target_size = (224, 224),\n",
    "    batch_size = 60,\n",
    "    class_mode = 'categorical',\n",
    "    subset='training'\n",
    ")\n",
    "\n",
    "validation_generator = data_generator.flow_from_directory(\n",
    "    directory = 'data/NEU-DET-HIS/validation/images/',\n",
    "    target_size = (224, 224),\n",
    "    batch_size = 60,\n",
    "    class_mode = 'categorical',\n",
    "    subset='training'\n",
    "\n",
    ")"
   ]
  },
  {
   "cell_type": "code",
   "execution_count": 11,
   "id": "cd7a05c7",
   "metadata": {},
   "outputs": [
    {
     "name": "stdout",
     "output_type": "stream",
     "text": [
      "Epoch 1/5\n",
      "8/8 [==============================] - 27s 3s/step - loss: 2.1546 - accuracy: 0.1479\n",
      "Epoch 2/5\n",
      "8/8 [==============================] - 19s 2s/step - loss: 1.7488 - accuracy: 0.2271\n",
      "Epoch 3/5\n",
      "8/8 [==============================] - 18s 2s/step - loss: 1.5491 - accuracy: 0.3417\n",
      "Epoch 4/5\n",
      "8/8 [==============================] - 18s 2s/step - loss: 1.4062 - accuracy: 0.4167\n",
      "Epoch 5/5\n",
      "8/8 [==============================] - 19s 2s/step - loss: 0.9840 - accuracy: 0.6208\n"
     ]
    },
    {
     "data": {
      "text/plain": [
       "Reusing TensorBoard on port 6006 (pid 12072), started 1 day, 22:22:17 ago. (Use '!kill 12072' to kill it.)"
      ]
     },
     "metadata": {},
     "output_type": "display_data"
    },
    {
     "data": {
      "text/html": [
       "\n",
       "      <iframe id=\"tensorboard-frame-921acaa4d73a6eda\" width=\"100%\" height=\"800\" frameborder=\"0\">\n",
       "      </iframe>\n",
       "      <script>\n",
       "        (function() {\n",
       "          const frame = document.getElementById(\"tensorboard-frame-921acaa4d73a6eda\");\n",
       "          const url = new URL(\"/\", window.location);\n",
       "          const port = 6006;\n",
       "          if (port) {\n",
       "            url.port = port;\n",
       "          }\n",
       "          frame.src = url;\n",
       "        })();\n",
       "      </script>\n",
       "    "
      ],
      "text/plain": [
       "<IPython.core.display.HTML object>"
      ]
     },
     "metadata": {},
     "output_type": "display_data"
    }
   ],
   "source": [
    "# Load the TensorBoard notebook extension\n",
    "import datetime\n",
    "\n",
    "%load_ext tensorboard\n",
    "log_dir = \"logs/fit/\" + datetime.datetime.now().strftime(\"%Y%m%d-%H%M%S\")\n",
    "tensorboard_callback = tf.keras.callbacks.TensorBoard(log_dir=log_dir, histogram_freq=1)\n",
    "\n",
    "history = model.fit(train_generator,steps_per_epoch=8,epochs=5, verbose=1,callbacks=[tensorboard_callback])\n",
    "%tensorboard --logdir logs/fit"
   ]
  },
  {
   "cell_type": "code",
   "execution_count": 12,
   "id": "5b9d2ed3",
   "metadata": {},
   "outputs": [
    {
     "data": {
      "text/plain": [
       "{'loss': [2.154602289199829,\n",
       "  1.7488042116165161,\n",
       "  1.5491185188293457,\n",
       "  1.4061915874481201,\n",
       "  0.9840208888053894],\n",
       " 'accuracy': [0.14791665971279144,\n",
       "  0.22708334028720856,\n",
       "  0.34166666865348816,\n",
       "  0.4166666567325592,\n",
       "  0.6208333373069763]}"
      ]
     },
     "execution_count": 12,
     "metadata": {},
     "output_type": "execute_result"
    }
   ],
   "source": [
    "history.history"
   ]
  },
  {
   "cell_type": "markdown",
   "id": "5f21b9ba",
   "metadata": {},
   "source": [
    "## Test on Test on NEU test, and whole ENEU after Histogram Equalization"
   ]
  },
  {
   "cell_type": "code",
   "execution_count": 13,
   "id": "3f0c9b0f",
   "metadata": {},
   "outputs": [
    {
     "name": "stderr",
     "output_type": "stream",
     "text": [
      "C:\\Users\\91800\\anaconda3\\envs\\MTP\\lib\\site-packages\\tensorflow\\python\\data\\ops\\structured_function.py:264: UserWarning: Even though the `tf.config.experimental_run_functions_eagerly` option is set, this option does not apply to tf.data functions. To force eager execution of tf.data functions, please use `tf.data.experimental.enable_debug_mode()`.\n",
      "  warnings.warn(\n"
     ]
    },
    {
     "name": "stdout",
     "output_type": "stream",
     "text": [
      "6/6 [==============================] - 5s 788ms/step - loss: 0.8964 - accuracy: 0.5167\n"
     ]
    },
    {
     "data": {
      "text/plain": [
       "[0.8964059352874756, 0.5166666507720947]"
      ]
     },
     "execution_count": 13,
     "metadata": {},
     "output_type": "execute_result"
    }
   ],
   "source": [
    "tf.config.run_functions_eagerly(True)\n",
    "model.evaluate(validation_generator)"
   ]
  },
  {
   "cell_type": "code",
   "execution_count": 18,
   "id": "a5992dd1",
   "metadata": {},
   "outputs": [
    {
     "name": "stdout",
     "output_type": "stream",
     "text": [
      "Found 10800 images belonging to 6 classes.\n"
     ]
    }
   ],
   "source": [
    "validation_generator_ENEU = data_generator.flow_from_directory(\n",
    "    directory = 'data/ENEU-HIS/',\n",
    "    target_size = (224, 224),\n",
    "    batch_size = 60,\n",
    "    class_mode = 'categorical'\n",
    ")"
   ]
  },
  {
   "cell_type": "code",
   "execution_count": 19,
   "id": "4f8e261e",
   "metadata": {},
   "outputs": [
    {
     "name": "stdout",
     "output_type": "stream",
     "text": [
      "180/180 [==============================] - 140s 776ms/step - loss: 2.7253 - accuracy: 0.2051\n"
     ]
    },
    {
     "data": {
      "text/plain": [
       "[2.725252866744995, 0.20509259402751923]"
      ]
     },
     "execution_count": 19,
     "metadata": {},
     "output_type": "execute_result"
    }
   ],
   "source": [
    "model.evaluate(validation_generator_ENEU)"
   ]
  },
  {
   "cell_type": "code",
   "execution_count": null,
   "id": "0bedd601",
   "metadata": {},
   "outputs": [],
   "source": []
  }
 ],
 "metadata": {
  "kernelspec": {
   "display_name": "Python 3 (ipykernel)",
   "language": "python",
   "name": "python3"
  },
  "language_info": {
   "codemirror_mode": {
    "name": "ipython",
    "version": 3
   },
   "file_extension": ".py",
   "mimetype": "text/x-python",
   "name": "python",
   "nbconvert_exporter": "python",
   "pygments_lexer": "ipython3",
   "version": "3.9.12"
  }
 },
 "nbformat": 4,
 "nbformat_minor": 5
}
